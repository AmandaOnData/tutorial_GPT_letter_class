{
  "nbformat": 4,
  "nbformat_minor": 0,
  "metadata": {
    "colab": {
      "provenance": [],
      "authorship_tag": "ABX9TyM0dvzIZTmuVHQe1NYsum0M",
      "include_colab_link": true
    },
    "kernelspec": {
      "name": "python3",
      "display_name": "Python 3"
    },
    "language_info": {
      "name": "python"
    }
  },
  "cells": [
    {
      "cell_type": "markdown",
      "metadata": {
        "id": "view-in-github",
        "colab_type": "text"
      },
      "source": [
        "<a href=\"https://colab.research.google.com/github/AmandaOnData/tutorial_GPT_letter_class/blob/main/AI_Tailored_letter_Amanda_Williamson.ipynb\" target=\"_parent\"><img src=\"https://colab.research.google.com/assets/colab-badge.svg\" alt=\"Open In Colab\"/></a>"
      ]
    },
    {
      "cell_type": "markdown",
      "source": [
        "# GPT-Tailored Cover Letter\n",
        "This is for educational use only, and not intended as advice or a replacement for writing cover letters. Course: Leading for an Uncertain Future, University of Waikato, 2023. Week 9. **Dr Amanda J Williamson @AmandaOnData**\n",
        "\n",
        "---\n",
        "\n",
        "\n",
        "\n",
        "In this tutorial you will learn how to create a tailored CV using artificial intelligence. Specifically it uses OpenAI's GPT 3.5 model to help craft a tailored response to a Seek job advertisement. \n",
        "\n",
        "Once you have set it up, all you will need to do is paste the URL into your notebook, and it will create a tailored letter, highlighting how your experience meets the requirements of the job. "
      ],
      "metadata": {
        "id": "X7_gsNDn0Lq-"
      }
    },
    {
      "cell_type": "markdown",
      "source": [
        "# Information you need to provide\n",
        "To start, you need three things.\n",
        "\n",
        "\n",
        "1.   A secret key from OpenAI: https://platform.openai.com/account/api-keys\n",
        "2.   A link to a job you would like to apply for: https://www.seek.co.nz/recommended\n",
        "3.   A public link to a .txt file that outlines your previous experience and qualifications. Drop here and share link: https://drive.google.com/drive/my-drive\n",
        "\n"
      ],
      "metadata": {
        "id": "GH7za1UT7uIu"
      }
    },
    {
      "cell_type": "code",
      "source": [
        "# Go to: https://platform.openai.com/account/api-keys\n",
        "# Paste new Secret Key here between the quote marks below\n",
        "api_key = \"AddYourInfo\"\n",
        "\n",
        "# Find a relevant job on Seek you would like to apply for: https://www.seek.co.nz/recommended\n",
        "#Add the url here (remove anything that appears after the question mark '?'):\n",
        "job_url = \"AddYourInfo\"\n",
        "\n",
        "# Paste descriptions of your previous work and qualifications into a .txt file. Drop .txt file onto Google Drive. Click share and share PUBLIC link. \n",
        "# Below, replace AddYourInfo with the public URL of your file.\n",
        "resume_file_url = \"AddYourInfo\"\n",
        "\n",
        "# Write your details\n",
        "your_name = \"AddYourInfo\"\n",
        "your_contact_email = \"AddYourInfo\"\n",
        "your_contact_number = \"AddYourInfo\""
      ],
      "metadata": {
        "id": "yM9FQatb7sCv"
      },
      "execution_count": null,
      "outputs": []
    },
    {
      "cell_type": "markdown",
      "source": [
        "# Run all code\n",
        "## Install libaries"
      ],
      "metadata": {
        "id": "4oSOsYj_i8-o"
      }
    },
    {
      "cell_type": "code",
      "execution_count": null,
      "metadata": {
        "id": "6C0bIL5lv897"
      },
      "outputs": [],
      "source": [
        "%%capture\n",
        "!pip install openai;"
      ]
    },
    {
      "cell_type": "code",
      "source": [
        "import pandas as pd\n",
        "import openai\n",
        "openai.api_key = api_key\n",
        "\n",
        "# Libraries for parsing data\n",
        "import requests\n",
        "from bs4 import BeautifulSoup\n",
        "\n",
        "# Library for getting your data from Google Doc\n",
        "from io import StringIO\n",
        "\n",
        "# Get today's date\n",
        "import datetime\n",
        "today = datetime.date.today().strftime(\"%d %B %Y\")"
      ],
      "metadata": {
        "id": "Z4T78WPwwE-y"
      },
      "execution_count": null,
      "outputs": []
    },
    {
      "cell_type": "markdown",
      "source": [
        "## Scrape Data From Seek Ad"
      ],
      "metadata": {
        "id": "_zjNNd5RwZ8-"
      }
    },
    {
      "cell_type": "code",
      "source": [
        "# OpenAI Embedding Model\n",
        "GPT_MODEL = \"gpt-3.5-turbo\"\n",
        "\n",
        "# Download the text\n",
        "response = requests.get(job_url, verify=True)\n",
        "soup = BeautifulSoup(response.text, 'html.parser')\n",
        "job_text = soup.get_text()\n",
        "prompt_competencies = \"Condense the experience the ideal job candidate should have for this role into 4 or fewer parallel bullets: \"\n",
        "\n",
        "\n",
        "# Get GPT to get the competencies from the text\n",
        "response = openai.ChatCompletion.create(\n",
        "    messages=[\n",
        "        {'role': 'system', 'content': prompt_competencies},\n",
        "        {'role': 'user', 'content': job_text},\n",
        "    ],\n",
        "    model=GPT_MODEL,\n",
        "    temperature=0,\n",
        ")\n",
        "competencies = response['choices'][0]['message']['content']\n",
        "number_of_competencies = len(competencies.split('\\n'))\n",
        "\n",
        "\n",
        "# Get Details about the Job from GPT\n",
        "job_details_prompt = \"In bullet points, list ('1 Company:') The company, ('2 The Position:') the position\"\n",
        "response = openai.ChatCompletion.create(\n",
        "    messages=[\n",
        "        {'role': 'system', 'content': job_details_prompt},\n",
        "        {'role': 'user', 'content': job_text},\n",
        "    ],\n",
        "    model=GPT_MODEL,\n",
        "    temperature=0,\n",
        ")\n",
        "job_details = response['choices'][0]['message']['content']\n",
        "\n",
        "\n",
        "#Print\n",
        "print(job_details)\n",
        "print()\n",
        "print(competencies)\n"
      ],
      "metadata": {
        "id": "mYwaQUm_weXP"
      },
      "execution_count": null,
      "outputs": []
    },
    {
      "cell_type": "markdown",
      "source": [
        "## Read in my CV from a Google doc"
      ],
      "metadata": {
        "id": "eTjruiiDwzmD"
      }
    },
    {
      "cell_type": "code",
      "source": [
        "# Get the file ID from the URL\n",
        "\n",
        "file_id = resume_file_url.split(\"/\")[-2]\n",
        "\n",
        "# Download the file content as a string\n",
        "url = f\"https://drive.google.com/uc?id={file_id}&export=download\"\n",
        "response = requests.get(url)\n",
        "resume = StringIO(response.content.decode(\"utf-8\")).read()\n",
        "\n",
        "print(f\"{resume[:1000]}...   truncated for readibility.\")\n",
        "resume"
      ],
      "metadata": {
        "id": "kuMqXetyw1b3"
      },
      "execution_count": null,
      "outputs": []
    },
    {
      "cell_type": "markdown",
      "source": [
        "## Combine the Job Ad requirements with my Resume"
      ],
      "metadata": {
        "id": "QAD75VEExhtK"
      }
    },
    {
      "cell_type": "code",
      "source": [
        "my_prompt = f\"Here are {number_of_competencies} types of work experience/competencies requested in a job ad. State each competency, then summarise in the first person if I have any relevant experience/skills/competencies (be specific about where the experience was aquired, and list any key details). \" \n",
        "listed_competencies = f\"The {number_of_competencies} competencies to list: {competencies}. Do NOT return any more than the {number_of_competencies} competencies provided.\"\n",
        "\n",
        "cover_letter_prompt = my_prompt + listed_competencies# Concatenate the two\n",
        "response = openai.ChatCompletion.create(\n",
        "    messages=[\n",
        "        {'role': 'system', 'content': cover_letter_prompt},\n",
        "        {'role': 'user', 'content': resume},\n",
        "    ],\n",
        "    model=GPT_MODEL,\n",
        "    temperature=0,\n",
        ")\n",
        "\n",
        "my_competencies = response['choices'][0]['message']['content']\n",
        "print(my_competencies)"
      ],
      "metadata": {
        "id": "XWh8Wa0KxgkV"
      },
      "execution_count": null,
      "outputs": []
    },
    {
      "cell_type": "markdown",
      "source": [
        "# Write the cover letter"
      ],
      "metadata": {
        "id": "kX0MwtoR4Ask"
      }
    },
    {
      "cell_type": "code",
      "source": [
        "prompt = f\"You are a New Zealand job applicant {your_name}, writing a humble and concise cover letter\"\n",
        "body_instructions = f\"Please copy edit the body of a cover letter in first person New Zealand English.\\n\\\n",
        "Tone down excitement and confidence. Use bullet points:\\n\\\n",
        "Dear Recruitment Team,\\n\\\n",
        "Please accept my application for the following role: {job_details}.\\n\\\n",
        "The experience and competencies requested for the applicant align with my expertise. Specifically: {my_competencies}.\\n\\\n",
        "Please note that I am north island based and would be happy to relocate domestically if relevant. Please feel free to contact me with any questions.\\n\\\n",
        "{your_name}\\n\\\n",
        "{your_contact_number} \\n\\\n",
        "{your_contact_email}\"\n",
        "\n",
        "\n",
        "response = openai.ChatCompletion.create(\n",
        "    messages=[\n",
        "        {'role': 'system', 'content': prompt},\n",
        "        {'role': 'user', 'content': body_instructions},\n",
        "    ],\n",
        "    model=GPT_MODEL,\n",
        "    temperature=0.7,\n",
        ")\n",
        "\n",
        "coverletter_body = response['choices'][0]['message']['content']\n",
        "print(coverletter_body)"
      ],
      "metadata": {
        "id": "pJeoFOadyJCu"
      },
      "execution_count": null,
      "outputs": []
    },
    {
      "cell_type": "markdown",
      "source": [
        "# Ask it to improve the cover letter"
      ],
      "metadata": {
        "id": "sEzxkXYI81kT"
      }
    },
    {
      "cell_type": "code",
      "source": [
        "improvements_request = \"Radically improve the body of this cover letter by using an example of a great cover letter. \"\\\n",
        "                      \"Use NZ English but change the structure and reformat to significantly improve it. \"\\\n",
        "                      \"Do NOT say'excited' or 'confident' or 'ideal' at anytime. \"\n",
        "\n",
        "\n",
        "improve = f\"{improvements_request}. # COVER LETTER {coverletter_body}. # JOB BEING APPLIED FOR: {job_text}\"\n",
        "response = openai.ChatCompletion.create(\n",
        "    messages=[\n",
        "        {'role': 'user', 'content': improve},\n",
        "    ],\n",
        "    model=GPT_MODEL,\n",
        "    temperature=1,\n",
        ")\n",
        "\n",
        "coverletter = response['choices'][0]['message']['content']\n",
        "print(f\"{today}\\n\\n\")\n",
        "print(coverletter)"
      ],
      "metadata": {
        "id": "2xbQ6QB2z6_c"
      },
      "execution_count": null,
      "outputs": []
    }
  ]
}